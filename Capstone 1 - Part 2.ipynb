{
 "cells": [
  {
   "cell_type": "markdown",
   "id": "b097e738",
   "metadata": {},
   "source": [
    "## Capstone 1 - Part 2\n",
    "\n",
    "In the first part of the capstone, we focused on Data Retrieval, Data Preprocessing, Feature Engineering and Exploratory Data Analysis using Python & its libraries. Now we are going to shift gears and gain insights into our HR Analytics dataset using SQL.\n",
    "\n",
    "## TODO: Make use of SQL to do the following:\n",
    "\n",
    "### Create a SQLITE3 DB using the CSV file (2 pts). Please refer this [link](https://www.linkedin.com/pulse/accessing-sqlite3-database-from-jupyter-notebook-using-varun-lobo/) and this [link](https://www.geeksforgeeks.org/how-to-import-csv-file-in-sqlite-database-using-python/) to know more.\n",
    "\n",
    "### Calculate the Attrition Rate and summarize attrition (3 pts) by:\n",
    "- Gender\n",
    "- Department\n",
    "- Age\n",
    "- Average monthly income by job level\n",
    "- Years at company\n",
    "\n",
    "### Continue using SQL to explore main reasons for attrition (3 pts), For example:\n",
    "- Why do more people over 50 years old leave the company than people who aged 40-50?\n",
    "- Why do people with higher pay still leave the company?\n",
    "- Which factors drive employees who work at company less than 5 years to leave?\n",
    "\n",
    "### Effective Communication (2 pts)\n",
    "- Please make use of markdown cells to communicate your thought process, why did you think of performing a step? what was the observation from the query? etc.\n",
    "- The code should be commented so that it is readable for the reviewer.\n",
    "\n",
    "### Grading and Important Instructions\n",
    "- Each of the above steps are mandatory and should be completed in good faith\n",
    "- Make sure before submitting that the code is in fully working condition\n",
    "- It is fine to make use of ChatGPT, stackoverflow type resources, just provide the reference links from where you got it\n",
    "- Debugging is an art, if you find yourself stuck with errors, take help of stackoverflow and ChatGPT to resolve the issue and if it's still unresolved, reach out to me for help.\n",
    "- You need to score atleast 7/10 to pass the project, anything less than that will be marked required, needing resubmission.\n",
    "- Feedback will be provided on 3 levels (Awesome, Suggestion, & Required). Required changes are mandatory to be made.\n",
    "- For submission, please upload the project on github and share the link to the file with us through LMS."
   ]
  },
  {
   "cell_type": "markdown",
   "id": "179020d0",
   "metadata": {},
   "source": [
    "#### Calculate Attrition Rate\n"
   ]
  },
  {
   "cell_type": "code",
   "execution_count": 2,
   "id": "9e6465d9",
   "metadata": {},
   "outputs": [
    {
     "data": {
      "text/html": [
       "<div>\n",
       "<style scoped>\n",
       "    .dataframe tbody tr th:only-of-type {\n",
       "        vertical-align: middle;\n",
       "    }\n",
       "\n",
       "    .dataframe tbody tr th {\n",
       "        vertical-align: top;\n",
       "    }\n",
       "\n",
       "    .dataframe thead th {\n",
       "        text-align: right;\n",
       "    }\n",
       "</style>\n",
       "<table border=\"1\" class=\"dataframe\">\n",
       "  <thead>\n",
       "    <tr style=\"text-align: right;\">\n",
       "      <th></th>\n",
       "      <th>Age</th>\n",
       "      <th>Attrition</th>\n",
       "      <th>BusinessTravel</th>\n",
       "      <th>DailyRate</th>\n",
       "      <th>Department</th>\n",
       "      <th>DistanceFromHome</th>\n",
       "      <th>Education</th>\n",
       "      <th>EducationField</th>\n",
       "      <th>EmployeeCount</th>\n",
       "      <th>EmployeeNumber</th>\n",
       "      <th>...</th>\n",
       "      <th>RelationshipSatisfaction</th>\n",
       "      <th>StandardHours</th>\n",
       "      <th>StockOptionLevel</th>\n",
       "      <th>TotalWorkingYears</th>\n",
       "      <th>TrainingTimesLastYear</th>\n",
       "      <th>WorkLifeBalance</th>\n",
       "      <th>YearsAtCompany</th>\n",
       "      <th>YearsInCurrentRole</th>\n",
       "      <th>YearsSinceLastPromotion</th>\n",
       "      <th>YearsWithCurrManager</th>\n",
       "    </tr>\n",
       "  </thead>\n",
       "  <tbody>\n",
       "    <tr>\n",
       "      <th>0</th>\n",
       "      <td>41</td>\n",
       "      <td>Yes</td>\n",
       "      <td>Travel_Rarely</td>\n",
       "      <td>1102</td>\n",
       "      <td>Sales</td>\n",
       "      <td>1</td>\n",
       "      <td>2</td>\n",
       "      <td>Life Sciences</td>\n",
       "      <td>1</td>\n",
       "      <td>1</td>\n",
       "      <td>...</td>\n",
       "      <td>1</td>\n",
       "      <td>80</td>\n",
       "      <td>0</td>\n",
       "      <td>8</td>\n",
       "      <td>0</td>\n",
       "      <td>1</td>\n",
       "      <td>6</td>\n",
       "      <td>4</td>\n",
       "      <td>0</td>\n",
       "      <td>5</td>\n",
       "    </tr>\n",
       "    <tr>\n",
       "      <th>1</th>\n",
       "      <td>49</td>\n",
       "      <td>No</td>\n",
       "      <td>Travel_Frequently</td>\n",
       "      <td>279</td>\n",
       "      <td>Research &amp; Development</td>\n",
       "      <td>8</td>\n",
       "      <td>1</td>\n",
       "      <td>Life Sciences</td>\n",
       "      <td>1</td>\n",
       "      <td>2</td>\n",
       "      <td>...</td>\n",
       "      <td>4</td>\n",
       "      <td>80</td>\n",
       "      <td>1</td>\n",
       "      <td>10</td>\n",
       "      <td>3</td>\n",
       "      <td>3</td>\n",
       "      <td>10</td>\n",
       "      <td>7</td>\n",
       "      <td>1</td>\n",
       "      <td>7</td>\n",
       "    </tr>\n",
       "    <tr>\n",
       "      <th>2</th>\n",
       "      <td>37</td>\n",
       "      <td>Yes</td>\n",
       "      <td>Travel_Rarely</td>\n",
       "      <td>1373</td>\n",
       "      <td>Research &amp; Development</td>\n",
       "      <td>2</td>\n",
       "      <td>2</td>\n",
       "      <td>Other</td>\n",
       "      <td>1</td>\n",
       "      <td>4</td>\n",
       "      <td>...</td>\n",
       "      <td>2</td>\n",
       "      <td>80</td>\n",
       "      <td>0</td>\n",
       "      <td>7</td>\n",
       "      <td>3</td>\n",
       "      <td>3</td>\n",
       "      <td>0</td>\n",
       "      <td>0</td>\n",
       "      <td>0</td>\n",
       "      <td>0</td>\n",
       "    </tr>\n",
       "    <tr>\n",
       "      <th>3</th>\n",
       "      <td>33</td>\n",
       "      <td>No</td>\n",
       "      <td>Travel_Frequently</td>\n",
       "      <td>1392</td>\n",
       "      <td>Research &amp; Development</td>\n",
       "      <td>3</td>\n",
       "      <td>4</td>\n",
       "      <td>Life Sciences</td>\n",
       "      <td>1</td>\n",
       "      <td>5</td>\n",
       "      <td>...</td>\n",
       "      <td>3</td>\n",
       "      <td>80</td>\n",
       "      <td>0</td>\n",
       "      <td>8</td>\n",
       "      <td>3</td>\n",
       "      <td>3</td>\n",
       "      <td>8</td>\n",
       "      <td>7</td>\n",
       "      <td>3</td>\n",
       "      <td>0</td>\n",
       "    </tr>\n",
       "    <tr>\n",
       "      <th>4</th>\n",
       "      <td>27</td>\n",
       "      <td>No</td>\n",
       "      <td>Travel_Rarely</td>\n",
       "      <td>591</td>\n",
       "      <td>Research &amp; Development</td>\n",
       "      <td>2</td>\n",
       "      <td>1</td>\n",
       "      <td>Medical</td>\n",
       "      <td>1</td>\n",
       "      <td>7</td>\n",
       "      <td>...</td>\n",
       "      <td>4</td>\n",
       "      <td>80</td>\n",
       "      <td>1</td>\n",
       "      <td>6</td>\n",
       "      <td>3</td>\n",
       "      <td>3</td>\n",
       "      <td>2</td>\n",
       "      <td>2</td>\n",
       "      <td>2</td>\n",
       "      <td>2</td>\n",
       "    </tr>\n",
       "  </tbody>\n",
       "</table>\n",
       "<p>5 rows × 35 columns</p>\n",
       "</div>"
      ],
      "text/plain": [
       "   Age Attrition     BusinessTravel  DailyRate              Department  \\\n",
       "0   41       Yes      Travel_Rarely       1102                   Sales   \n",
       "1   49        No  Travel_Frequently        279  Research & Development   \n",
       "2   37       Yes      Travel_Rarely       1373  Research & Development   \n",
       "3   33        No  Travel_Frequently       1392  Research & Development   \n",
       "4   27        No      Travel_Rarely        591  Research & Development   \n",
       "\n",
       "   DistanceFromHome  Education EducationField  EmployeeCount  EmployeeNumber  \\\n",
       "0                 1          2  Life Sciences              1               1   \n",
       "1                 8          1  Life Sciences              1               2   \n",
       "2                 2          2          Other              1               4   \n",
       "3                 3          4  Life Sciences              1               5   \n",
       "4                 2          1        Medical              1               7   \n",
       "\n",
       "   ...  RelationshipSatisfaction StandardHours  StockOptionLevel  \\\n",
       "0  ...                         1            80                 0   \n",
       "1  ...                         4            80                 1   \n",
       "2  ...                         2            80                 0   \n",
       "3  ...                         3            80                 0   \n",
       "4  ...                         4            80                 1   \n",
       "\n",
       "   TotalWorkingYears  TrainingTimesLastYear WorkLifeBalance  YearsAtCompany  \\\n",
       "0                  8                      0               1               6   \n",
       "1                 10                      3               3              10   \n",
       "2                  7                      3               3               0   \n",
       "3                  8                      3               3               8   \n",
       "4                  6                      3               3               2   \n",
       "\n",
       "  YearsInCurrentRole  YearsSinceLastPromotion  YearsWithCurrManager  \n",
       "0                  4                        0                     5  \n",
       "1                  7                        1                     7  \n",
       "2                  0                        0                     0  \n",
       "3                  7                        3                     0  \n",
       "4                  2                        2                     2  \n",
       "\n",
       "[5 rows x 35 columns]"
      ]
     },
     "execution_count": 2,
     "metadata": {},
     "output_type": "execute_result"
    }
   ],
   "source": [
    "### Implement code\n",
    "\n",
    "import sqlite3\n",
    "import pandas as pd\n",
    "\n",
    "# Load CSV file into a DataFrame\n",
    "df = pd.read_csv(\"/Users/vijeethvj8/Downloads/Elevateme/Caspstone 1/HR-Analytics.csv\")  \n",
    "\n",
    "# Create SQLite3 database and establish connection\n",
    "conn = sqlite3.connect(\"HR_Analytics.db\")\n",
    "cursor = conn.cursor()\n",
    "\n",
    "# Store DataFrame into SQLite\n",
    "# Convert column names to valid SQL column names\n",
    "df.to_sql(\"hr_data\", conn, if_exists=\"replace\", index=False)\n",
    "\n",
    "# Query to check if data is loaded successfully\n",
    "query = \"SELECT * FROM hr_data LIMIT 5;\"\n",
    "pd.read_sql(query, conn)"
   ]
  },
  {
   "cell_type": "code",
   "execution_count": 3,
   "id": "27994942-7a2d-46fc-84a2-2f0f7ad37750",
   "metadata": {},
   "outputs": [
    {
     "name": "stdout",
     "output_type": "stream",
     "text": [
      "Attrition Summary:\n",
      "  Attrition Attrition_rate\n",
      "0     false          83.9%\n",
      "1      true          16.1%\n"
     ]
    }
   ],
   "source": [
    "# Calculate Attrition Rate\n",
    "total_employees = pd.read_sql(\"SELECT COUNT(*) as total FROM hr_data\", conn).iloc[0,0]\n",
    "attrition_count = pd.read_sql(\"SELECT COUNT(*) as attrition FROM hr_data WHERE Attrition='Yes'\", conn).iloc[0,0]\n",
    "attrition_rate = (attrition_count / total_employees) * 100\n",
    "\n",
    "# Format output similar to the provided sample\n",
    "attrition_summary_query = \"\"\"\n",
    "SELECT \n",
    "    CASE WHEN Attrition='Yes' THEN 'true' ELSE 'false' END AS Attrition, \n",
    "    ROUND((COUNT(*) * 100.0 / (SELECT COUNT(*) FROM hr_data)), 1) || '%' AS Attrition_rate\n",
    "FROM hr_data\n",
    "GROUP BY Attrition;\n",
    "\"\"\"\n",
    "print(\"Attrition Summary:\")\n",
    "print(pd.read_sql(attrition_summary_query, conn))"
   ]
  },
  {
   "cell_type": "markdown",
   "id": "41bab6fc",
   "metadata": {},
   "source": [
    "#### Sample Output\n",
    "\n",
    "![image](https://api-v4.skyprepapp.com/public_api/da/857886?view_key=eyJvYmplY3RfdHlwZSI6ImFydGljbGUiLCJvYmplY3RfaWQiOjg1Nzg4NiwiaG1hYyI6ImUyNGU0YWRhNWQwMDkxNWE2NWNiY2EwNGFlNDNiMTBlYmYyNWY0YzAiLCJleHBpcmVzX2F0Ijo0ODkxMzgxMTk5LCJvdHRfdG9rZW4iOm51bGx9)"
   ]
  },
  {
   "cell_type": "markdown",
   "id": "723146e8",
   "metadata": {},
   "source": [
    "#### Find Attrition by Gender"
   ]
  },
  {
   "cell_type": "code",
   "execution_count": 4,
   "id": "91cf1ab8",
   "metadata": {},
   "outputs": [
    {
     "name": "stdout",
     "output_type": "stream",
     "text": [
      "Attrition by Gender:\n",
      "  Attrition  Gender  Count_gender  Attrition_by_gender\n",
      "0     false  Female           501                 85.2\n",
      "1      true  Female            87                 14.8\n",
      "2     false    Male           732                 83.0\n",
      "3      true    Male           150                 17.0\n"
     ]
    }
   ],
   "source": [
    "### Implement code\n",
    "\n",
    "# Summarize attrition by Gender\n",
    "attrition_by_gender_query = \"\"\"\n",
    "SELECT \n",
    "    CASE WHEN Attrition='Yes' THEN 'true' ELSE 'false' END AS Attrition,\n",
    "    Gender, \n",
    "    COUNT(*) AS Count_gender, \n",
    "    ROUND((COUNT(*) * 100.0 / SUM(COUNT(*)) OVER(PARTITION BY Gender)), 1) AS Attrition_by_gender\n",
    "FROM hr_data\n",
    "GROUP BY Attrition, Gender;\n",
    "\"\"\"\n",
    "print(\"Attrition by Gender:\")\n",
    "print(pd.read_sql(attrition_by_gender_query, conn))"
   ]
  },
  {
   "cell_type": "markdown",
   "id": "8da31e8b",
   "metadata": {},
   "source": [
    "#### Sample output\n",
    "\n",
    "![image](https://api-v4.skyprepapp.com/public_api/da/857882?view_key=eyJvYmplY3RfdHlwZSI6ImFydGljbGUiLCJvYmplY3RfaWQiOjg1Nzg4MiwiaG1hYyI6IjM1NDU5N2E4MjZmMTMxNWFhMTA4NzFiYTFkZjQ5YjBhNTYyOWYwMzgiLCJleHBpcmVzX2F0Ijo0ODkxMzgxMTk5LCJvdHRfdG9rZW4iOm51bGx9)"
   ]
  },
  {
   "cell_type": "markdown",
   "id": "40708d2a",
   "metadata": {},
   "source": [
    "#### Find Attrition by Dept"
   ]
  },
  {
   "cell_type": "code",
   "execution_count": 5,
   "id": "58b8581b",
   "metadata": {},
   "outputs": [
    {
     "name": "stdout",
     "output_type": "stream",
     "text": [
      "Attrition by Department:\n",
      "               Department Attrition  Department_attrition\n",
      "0         Human Resources        No                    51\n",
      "1         Human Resources       Yes                    12\n",
      "2  Research & Development        No                   828\n",
      "3  Research & Development       Yes                   133\n",
      "4                   Sales        No                   354\n",
      "5                   Sales       Yes                    92\n"
     ]
    }
   ],
   "source": [
    "#### Find Attrition by Gender### Implement code\n",
    "\n",
    "attrition_by_department_query = \"\"\"\n",
    "SELECT Department, Attrition, COUNT(*) AS Department_attrition \n",
    "FROM hr_data\n",
    "GROUP BY Department, Attrition;\n",
    "\"\"\"\n",
    "print(\"Attrition by Department:\")\n",
    "print(pd.read_sql(attrition_by_department_query, conn))"
   ]
  },
  {
   "cell_type": "markdown",
   "id": "e23bee46",
   "metadata": {},
   "source": [
    "#### Sample Output\n",
    "\n",
    "<img src=\"https://api-v4.skyprepapp.com/public_api/da/857884?view_key=eyJvYmplY3RfdHlwZSI6ImFydGljbGUiLCJvYmplY3RfaWQiOjg1Nzg4NCwiaG1hYyI6IjdmOTA4NzJjODZmYTgxOGUyMzkyYTBlZjhjYjljNjA4ZGM3NjkzMWYiLCJleHBpcmVzX2F0Ijo0ODkxMzgxMTk5LCJvdHRfdG9rZW4iOm51bGx9\" width=\"450\" height=\"450\">"
   ]
  },
  {
   "cell_type": "markdown",
   "id": "a2cef9d3",
   "metadata": {},
   "source": [
    "#### Find Attrition by Age Groups"
   ]
  },
  {
   "cell_type": "code",
   "execution_count": 9,
   "id": "088d0ac6",
   "metadata": {},
   "outputs": [
    {
     "name": "stdout",
     "output_type": "stream",
     "text": [
      "Attrition by Age Group:\n",
      "  Age_group Attrition  num  percent_by_age\n",
      "0   30 - 40        No  533           85.69\n",
      "1   30 - 40       Yes   89           14.31\n",
      "2   40 - 50        No  315           90.26\n",
      "3   40 - 50       Yes   34            9.74\n",
      "4   Over 50        No  150           86.71\n",
      "5   Over 50       Yes   23           13.29\n",
      "6  Under 30        No  235           72.09\n",
      "7  Under 30       Yes   91           27.91\n"
     ]
    }
   ],
   "source": [
    "# Summarize attrition by Age Group (Fixed Grouping Issue)\n",
    "attrition_by_age_query = \"\"\"\n",
    "SELECT \n",
    "    CASE \n",
    "        WHEN Age < 30 THEN 'Under 30'\n",
    "        WHEN Age BETWEEN 30 AND 39 THEN '30 - 40'\n",
    "        WHEN Age BETWEEN 40 AND 49 THEN '40 - 50'\n",
    "        ELSE 'Over 50' \n",
    "    END AS Age_group,\n",
    "    Attrition,\n",
    "    COUNT(*) AS num,\n",
    "    ROUND((COUNT(*) * 100.0 / SUM(COUNT(*)) OVER(PARTITION BY \n",
    "        CASE \n",
    "            WHEN Age < 30 THEN 'Under 30'\n",
    "            WHEN Age BETWEEN 30 AND 39 THEN '30 - 40'\n",
    "            WHEN Age BETWEEN 40 AND 49 THEN '40 - 50'\n",
    "            ELSE 'Over 50' \n",
    "        END\n",
    "    )), 2) AS percent_by_age\n",
    "FROM hr_data\n",
    "GROUP BY \n",
    "    CASE \n",
    "        WHEN Age < 30 THEN 'Under 30'\n",
    "        WHEN Age BETWEEN 30 AND 39 THEN '30 - 40'\n",
    "        WHEN Age BETWEEN 40 AND 49 THEN '40 - 50'\n",
    "        ELSE 'Over 50' \n",
    "    END, Attrition;\n",
    "\"\"\"\n",
    "print(\"Attrition by Age Group:\")\n",
    "print(pd.read_sql(attrition_by_age_query, conn))"
   ]
  },
  {
   "cell_type": "markdown",
   "id": "7eb8bfc8",
   "metadata": {},
   "source": [
    "#### Sample Output\n",
    "\n",
    "![image](https://api-v4.skyprepapp.com/public_api/da/857885?view_key=eyJvYmplY3RfdHlwZSI6ImFydGljbGUiLCJvYmplY3RfaWQiOjg1Nzg4NSwiaG1hYyI6IjcwNGVlOWIwYzg1MmMwNmNhODg0NmYyZDFlNWE3OTU1MTFhMGVmYWYiLCJleHBpcmVzX2F0Ijo0ODkxMzgxMTk5LCJvdHRfdG9rZW4iOm51bGx9)"
   ]
  },
  {
   "cell_type": "markdown",
   "id": "67dbffff",
   "metadata": {},
   "source": [
    "#### Find Attrition by Monthly Income"
   ]
  },
  {
   "cell_type": "code",
   "execution_count": 7,
   "id": "9f954d18",
   "metadata": {},
   "outputs": [
    {
     "name": "stdout",
     "output_type": "stream",
     "text": [
      "Attrition by Job Level and Income:\n",
      "                Department  JobLevel  avg_income  attrition_avg_income  \\\n",
      "0          Human Resources         1      2733.2                2415.7   \n",
      "1          Human Resources         2      5563.5                   NaN   \n",
      "2          Human Resources         3      9623.0               10216.0   \n",
      "3          Human Resources         4     16147.5                   NaN   \n",
      "4          Human Resources         5     19197.9                   NaN   \n",
      "5   Research & Development         1      2840.1                2687.4   \n",
      "6   Research & Development         2      5291.2                5372.0   \n",
      "7   Research & Development         3     10170.5                9503.8   \n",
      "8   Research & Development         4     15634.7               12169.0   \n",
      "9   Research & Development         5     19218.5               19550.0   \n",
      "10                   Sales         1      2506.7                2373.4   \n",
      "11                   Sales         2      5746.1                5917.0   \n",
      "12                   Sales         3      9282.3                9202.8   \n",
      "13                   Sales         4     15166.3               13395.8   \n",
      "14                   Sales         5     19088.0               19334.5   \n",
      "\n",
      "    difference  \n",
      "0       -317.5  \n",
      "1          NaN  \n",
      "2        593.0  \n",
      "3          NaN  \n",
      "4          NaN  \n",
      "5       -152.7  \n",
      "6         80.8  \n",
      "7       -666.6  \n",
      "8      -3465.7  \n",
      "9        331.5  \n",
      "10      -133.3  \n",
      "11       170.9  \n",
      "12       -79.5  \n",
      "13     -1770.5  \n",
      "14       246.5  \n"
     ]
    }
   ],
   "source": [
    "### Implement code\n",
    "\n",
    "# Summarize attrition by Monthly Income\n",
    "attrition_by_income_query = \"\"\"\n",
    "SELECT Department, JobLevel, \n",
    "    ROUND(AVG(MonthlyIncome), 1) AS avg_income,\n",
    "    ROUND(AVG(CASE WHEN Attrition='Yes' THEN MonthlyIncome ELSE NULL END), 1) AS attrition_avg_income,\n",
    "    ROUND(AVG(CASE WHEN Attrition='Yes' THEN MonthlyIncome ELSE NULL END) - AVG(MonthlyIncome), 1) AS difference\n",
    "FROM hr_data\n",
    "GROUP BY Department, JobLevel;\n",
    "\"\"\"\n",
    "print(\"Attrition by Job Level and Income:\")\n",
    "print(pd.read_sql(attrition_by_income_query, conn))"
   ]
  },
  {
   "cell_type": "markdown",
   "id": "124f8cee",
   "metadata": {},
   "source": [
    "#### Sample Output\n",
    "\n",
    "![image](https://api-v4.skyprepapp.com/public_api/da/857883?view_key=eyJvYmplY3RfdHlwZSI6ImFydGljbGUiLCJvYmplY3RfaWQiOjg1Nzg4MywiaG1hYyI6Ijg3NTU4ZDU1ZjRjN2U1YWI3ODQzYjM1NzFkNjBjMjEwNGY5NWI5ODUiLCJleHBpcmVzX2F0Ijo0ODkxMzgxMTk5LCJvdHRfdG9rZW4iOm51bGx9)"
   ]
  },
  {
   "cell_type": "markdown",
   "id": "018c4ff6",
   "metadata": {},
   "source": [
    "#### Find Attrition by Years At Company"
   ]
  },
  {
   "cell_type": "code",
   "execution_count": 8,
   "id": "ee8af448",
   "metadata": {},
   "outputs": [
    {
     "name": "stdout",
     "output_type": "stream",
     "text": [
      "Attrition by Tenure:\n",
      "    tenure_years  num  percent\n",
      "0    11-20 years   12      5.1\n",
      "1      2-5 years   87     36.7\n",
      "2     6-10 years   55     23.2\n",
      "3      New Hires   16      6.8\n",
      "4  Over 20 years   67     28.3\n"
     ]
    }
   ],
   "source": [
    "### Implement code\n",
    "\n",
    "# Summarize attrition by Tenure (Years at Company)\n",
    "attrition_by_tenure_query = \"\"\"\n",
    "SELECT \n",
    "    CASE \n",
    "        WHEN YearsAtCompany = 0 THEN 'New Hires'\n",
    "        WHEN YearsAtCompany BETWEEN 2 AND 5 THEN '2-5 years'\n",
    "        WHEN YearsAtCompany BETWEEN 6 AND 10 THEN '6-10 years'\n",
    "        WHEN YearsAtCompany BETWEEN 11 AND 20 THEN '11-20 years'\n",
    "        ELSE 'Over 20 years' \n",
    "    END AS tenure_years,\n",
    "    COUNT(*) AS num,\n",
    "    ROUND((COUNT(*) * 100.0 / (SELECT COUNT(*) FROM hr_data WHERE Attrition='Yes')), 1) AS percent\n",
    "FROM hr_data\n",
    "WHERE Attrition='Yes'\n",
    "GROUP BY tenure_years;\n",
    "\"\"\"\n",
    "print(\"Attrition by Tenure:\")\n",
    "print(pd.read_sql(attrition_by_tenure_query, conn))"
   ]
  },
  {
   "cell_type": "markdown",
   "id": "ae528e04",
   "metadata": {},
   "source": [
    "#### Sample Output\n",
    "\n",
    "![image](https://api-v4.skyprepapp.com/public_api/da/857881?view_key=eyJvYmplY3RfdHlwZSI6ImFydGljbGUiLCJvYmplY3RfaWQiOjg1Nzg4MSwiaG1hYyI6IjFhYmY3NGI4MzQ1NzViMWZkNDJlMjcwYTUyOTQ0OWQwZjJjMjhmNWUiLCJleHBpcmVzX2F0Ijo0ODkxMzgxMTk5LCJvdHRfdG9rZW4iOm51bGx9)"
   ]
  },
  {
   "cell_type": "markdown",
   "id": "b35f060a",
   "metadata": {},
   "source": [
    "#### Continue using SQL to explore main reasons for attrition (3 pts), For example:\n",
    "- Why do more people over 50 years old leave the company than people who aged 40-50?\n",
    "- Why do people with higher pay still leave the company?\n",
    "- Which factors drive employees who work at company less than 5 years to leave?"
   ]
  },
  {
   "cell_type": "code",
   "execution_count": 10,
   "id": "263d4f81",
   "metadata": {},
   "outputs": [
    {
     "name": "stdout",
     "output_type": "stream",
     "text": [
      "Attrition Comparison: Over 50 vs. 40-50\n",
      "  Age_group  num_leaving  avg_satisfaction  avg_worklife_balance  \\\n",
      "0     40-50           34               2.4                   2.6   \n",
      "1   Over 50           23               2.8                   2.6   \n",
      "\n",
      "   avg_involvement  \n",
      "0              2.6  \n",
      "1              2.6  \n"
     ]
    }
   ],
   "source": [
    "# 1. Why do more people over 50 years old leave the company than people aged 40-50?\n",
    "attrition_by_senior_age_query = \"\"\"\n",
    "SELECT \n",
    "    CASE \n",
    "        WHEN Age >= 50 THEN 'Over 50'\n",
    "        WHEN Age BETWEEN 40 AND 49 THEN '40-50'\n",
    "    END AS Age_group,\n",
    "    COUNT(*) AS num_leaving,\n",
    "    ROUND(AVG(JobSatisfaction), 1) AS avg_satisfaction,\n",
    "    ROUND(AVG(WorkLifeBalance), 1) AS avg_worklife_balance,\n",
    "    ROUND(AVG(JobInvolvement), 1) AS avg_involvement\n",
    "FROM hr_data\n",
    "WHERE Attrition = 'Yes' AND Age >= 40\n",
    "GROUP BY Age_group;\n",
    "\"\"\"\n",
    "print(\"Attrition Comparison: Over 50 vs. 40-50\")\n",
    "print(pd.read_sql(attrition_by_senior_age_query, conn))\n"
   ]
  },
  {
   "cell_type": "code",
   "execution_count": 11,
   "id": "75bbf501-956f-4b52-812b-0db8079d7563",
   "metadata": {},
   "outputs": [
    {
     "name": "stdout",
     "output_type": "stream",
     "text": [
      "Attrition by Income Level\n",
      "   JobLevel  avg_income  num_leaving  avg_satisfaction  avg_worklife_balance\n",
      "0         1      2598.1          143               2.4                   2.7\n",
      "1         2      5759.8           52               2.5                   2.6\n",
      "2         3      9388.4           32               2.6                   2.7\n",
      "3         4     13150.4            5               2.6                   2.0\n",
      "4         5     19463.8            5               2.4                   3.0\n"
     ]
    }
   ],
   "source": [
    "# 2. Why do people with higher pay still leave the company?\n",
    "attrition_by_income_query = \"\"\"\n",
    "SELECT \n",
    "    JobLevel, \n",
    "    ROUND(AVG(MonthlyIncome), 1) AS avg_income,\n",
    "    COUNT(*) AS num_leaving,\n",
    "    ROUND(AVG(JobSatisfaction), 1) AS avg_satisfaction,\n",
    "    ROUND(AVG(WorkLifeBalance), 1) AS avg_worklife_balance\n",
    "FROM hr_data\n",
    "WHERE Attrition = 'Yes'\n",
    "GROUP BY JobLevel\n",
    "ORDER BY JobLevel;\n",
    "\"\"\"\n",
    "print(\"Attrition by Income Level\")\n",
    "print(pd.read_sql(attrition_by_income_query, conn))"
   ]
  },
  {
   "cell_type": "code",
   "execution_count": 12,
   "id": "e3023eec-c01f-47d8-824c-3ad4d6640d3b",
   "metadata": {},
   "outputs": [
    {
     "name": "stdout",
     "output_type": "stream",
     "text": [
      "Attrition Factors for Employees with <5 Years Tenure\n",
      "   YearsAtCompany  num_leaving  avg_satisfaction  avg_env_satisfaction  \\\n",
      "0               0           16               2.3                   2.7   \n",
      "1               1           59               2.5                   2.5   \n",
      "2               2           27               2.6                   2.3   \n",
      "3               3           20               2.0                   2.0   \n",
      "4               4           19               2.7                   2.3   \n",
      "\n",
      "   avg_worklife_balance  avg_distance_from_home  \n",
      "0                   2.8                     5.9  \n",
      "1                   2.7                    12.4  \n",
      "2                   2.5                    10.6  \n",
      "3                   3.0                     7.5  \n",
      "4                   2.4                    12.9  \n"
     ]
    }
   ],
   "source": [
    "# 3. Which factors drive employees who work at the company less than 5 years to leave?\n",
    "attrition_by_tenure_factors_query = \"\"\"\n",
    "SELECT \n",
    "    YearsAtCompany, \n",
    "    COUNT(*) AS num_leaving,\n",
    "    ROUND(AVG(JobSatisfaction), 1) AS avg_satisfaction,\n",
    "    ROUND(AVG(EnvironmentSatisfaction), 1) AS avg_env_satisfaction,\n",
    "    ROUND(AVG(WorkLifeBalance), 1) AS avg_worklife_balance,\n",
    "    ROUND(AVG(DistanceFromHome), 1) AS avg_distance_from_home\n",
    "FROM hr_data\n",
    "WHERE Attrition = 'Yes' AND YearsAtCompany < 5\n",
    "GROUP BY YearsAtCompany;\n",
    "\"\"\"\n",
    "print(\"Attrition Factors for Employees with <5 Years Tenure\")\n",
    "print(pd.read_sql(attrition_by_tenure_factors_query, conn))"
   ]
  },
  {
   "cell_type": "code",
   "execution_count": null,
   "id": "81b94be2-e50a-4a90-83a2-d61ea1838c66",
   "metadata": {},
   "outputs": [],
   "source": []
  }
 ],
 "metadata": {
  "kernelspec": {
   "display_name": "Python 3 (ipykernel)",
   "language": "python",
   "name": "python3"
  },
  "language_info": {
   "codemirror_mode": {
    "name": "ipython",
    "version": 3
   },
   "file_extension": ".py",
   "mimetype": "text/x-python",
   "name": "python",
   "nbconvert_exporter": "python",
   "pygments_lexer": "ipython3",
   "version": "3.11.4"
  }
 },
 "nbformat": 4,
 "nbformat_minor": 5
}
